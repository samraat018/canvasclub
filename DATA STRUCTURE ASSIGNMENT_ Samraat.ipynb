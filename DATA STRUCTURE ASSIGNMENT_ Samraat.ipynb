{
 "cells": [
  {
   "cell_type": "markdown",
   "metadata": {},
   "source": [
    "# ASSIGNMENT NO:- 2 (Please! Do Honestly)"
   ]
  },
  {
   "cell_type": "code",
   "execution_count": null,
   "metadata": {},
   "outputs": [],
   "source": [
    "Q-1) Lists use _____ to access values \n",
    "\n",
    "Choose only ONE best answer.\n",
    "\n",
    "A  values\n",
    "\n",
    "B  indexes\n",
    "\n",
    "C  key values\n",
    "\n",
    "D  keys"
   ]
  },
  {
   "cell_type": "code",
   "execution_count": null,
   "metadata": {},
   "outputs": [],
   "source": []
  },
  {
   "cell_type": "code",
   "execution_count": null,
   "metadata": {},
   "outputs": [],
   "source": [
    "Q-2) Do lists preserve the order of the elements they contain?\n",
    "\n",
    "Choose only ONE best answer.\n",
    "\n",
    "A  Yes\n",
    "\n",
    "B  No"
   ]
  },
  {
   "cell_type": "code",
   "execution_count": null,
   "metadata": {},
   "outputs": [],
   "source": []
  },
  {
   "cell_type": "code",
   "execution_count": null,
   "metadata": {},
   "outputs": [],
   "source": [
    "Q-3)Consider this list, what will be the output of the following:\n",
    "\n",
    "li=[1,2,3]\n",
    "print(li[3])"
   ]
  },
  {
   "cell_type": "code",
   "execution_count": null,
   "metadata": {},
   "outputs": [],
   "source": []
  },
  {
   "cell_type": "raw",
   "metadata": {},
   "source": [
    "Q-4)What will be the output after executing the following codes? Do not take the help of compiler\n",
    "x=(0,8,9,67,45,9,0)\n",
    "y=slice(1,-2)\n",
    "x[y]                 "
   ]
  },
  {
   "cell_type": "code",
   "execution_count": null,
   "metadata": {},
   "outputs": [],
   "source": []
  },
  {
   "cell_type": "code",
   "execution_count": null,
   "metadata": {},
   "outputs": [],
   "source": [
    "Q-5) Consider this list, what will be the output of the following:\n",
    "\n",
    "li=[1,2,3,4,3,2,1]\n",
    "print(li[-3])\n",
    "Choose only ONE best answer.\n",
    "\n",
    "A  4\n",
    "\n",
    "B  3\n",
    "\n",
    "C  2\n",
    "\n",
    "D  1"
   ]
  },
  {
   "cell_type": "code",
   "execution_count": null,
   "metadata": {},
   "outputs": [],
   "source": []
  },
  {
   "cell_type": "raw",
   "metadata": {},
   "source": [
    "Q-6)The method used to increase the length of the list by number of elements in its argument.\n",
    " a)add ()\n",
    " b)insert ()\n",
    " c)extend ()\n",
    " d)pop ()"
   ]
  },
  {
   "cell_type": "code",
   "execution_count": null,
   "metadata": {},
   "outputs": [],
   "source": []
  },
  {
   "cell_type": "code",
   "execution_count": null,
   "metadata": {},
   "outputs": [],
   "source": [
    "Q-7)Consider this list, what will be the output of the following:\n",
    "\n",
    "li=[1,2,3,4,3,2,1]\n",
    "print(li[3:4])\n",
    "Choose only ONE best answer.\n",
    "\n",
    "A  1\n",
    "\n",
    "B  2\n",
    "\n",
    "C  3\n",
    "\n",
    "D  4"
   ]
  },
  {
   "cell_type": "code",
   "execution_count": null,
   "metadata": {},
   "outputs": [],
   "source": []
  },
  {
   "cell_type": "raw",
   "metadata": {},
   "source": [
    "Q-8) ADD two sets\n",
    "x={1,7,5,4}\n",
    "y={8,9,\"esh\"}"
   ]
  },
  {
   "cell_type": "code",
   "execution_count": null,
   "metadata": {},
   "outputs": [],
   "source": []
  },
  {
   "cell_type": "raw",
   "metadata": {},
   "source": [
    "Q-9) Find out which of the following code does not work on a tuple\n",
    "a) x+y\n",
    "b) sum(x)\n",
    "c) y[3] = 45\n",
    "d) len(y)"
   ]
  },
  {
   "cell_type": "code",
   "execution_count": null,
   "metadata": {},
   "outputs": [],
   "source": []
  },
  {
   "cell_type": "raw",
   "metadata": {},
   "source": [
    "Q-10) Which of the following is not a valid syntax for creating a Set ‘M’ in Python?\n",
    " a)M = set ([11,12,12,13,14,15])\n",
    " b)M = {11,12,13,14}\n",
    " c)M = set ([11,12],[13,14],[14,15])\n",
    " d)M = set ((11,12,13,14))"
   ]
  },
  {
   "cell_type": "code",
   "execution_count": null,
   "metadata": {},
   "outputs": [],
   "source": []
  },
  {
   "cell_type": "raw",
   "metadata": {},
   "source": [
    "Q-11)Which of the following command returns the set of all elements from both sets, a and b\n",
    "a={1,4,6,7,6,3}\n",
    "b={5,8,9,0,5,3,4}"
   ]
  },
  {
   "cell_type": "code",
   "execution_count": null,
   "metadata": {},
   "outputs": [],
   "source": []
  },
  {
   "cell_type": "raw",
   "metadata": {},
   "source": [
    "Q-12)For dictionary d = {\"plum \":0.66, \"pears \":1.25,\"oranges \":0.50, \"apple\":0.75 }, \n",
    "write a code to correctly update the price of oranges to 0.90?"
   ]
  },
  {
   "cell_type": "code",
   "execution_count": null,
   "metadata": {},
   "outputs": [],
   "source": []
  },
  {
   "cell_type": "raw",
   "metadata": {},
   "source": [
    "Q-13)What will be the output,do yourself without taking the help of compiler? \n",
    "c={}\n",
    "c[1]=12\n",
    "c[\"1\"]=12\n",
    "c[1]+=1"
   ]
  },
  {
   "cell_type": "code",
   "execution_count": null,
   "metadata": {},
   "outputs": [],
   "source": []
  },
  {
   "cell_type": "raw",
   "metadata": {},
   "source": [
    "Q-14)Which of the following is not possible in sequence datatypes?\n",
    " a)Create a tuple inside a set\n",
    " b)Create a list inside a set\n",
    " c)Create a list inside a tuple\n",
    " d)Create a set inside a list\n"
   ]
  },
  {
   "cell_type": "code",
   "execution_count": null,
   "metadata": {},
   "outputs": [],
   "source": []
  },
  {
   "cell_type": "raw",
   "metadata": {},
   "source": [
    "Q-15)Variable ‘a’ is defined as\n",
    "       a = \"gOOd moRning\"\n",
    " write a code to convert ‘a’ from ‘gOOd moRning’ to ‘Good Morning’ is:-"
   ]
  },
  {
   "cell_type": "code",
   "execution_count": null,
   "metadata": {},
   "outputs": [],
   "source": []
  },
  {
   "cell_type": "raw",
   "metadata": {},
   "source": [
    "Q-16) Create a list called “Stationery” which encompasses all the below variables\n",
    "\n",
    "      Product = ['Pencil', 'Pen', 'Eraser', 'Pencil Box', 'Scale']\n",
    "      Price= [5, 10, 2, 20, 12]  \n",
    "      Brand = ['Camlin', 'Rotomac', 'Nataraj', 'Camel', 'Apsara']\n",
    "     "
   ]
  },
  {
   "cell_type": "code",
   "execution_count": null,
   "metadata": {},
   "outputs": [],
   "source": []
  },
  {
   "cell_type": "raw",
   "metadata": {},
   "source": [
    "Q-17)write a code to add “Notebook” as the first element inside the first level of the list “Stationery” is:-"
   ]
  },
  {
   "cell_type": "code",
   "execution_count": null,
   "metadata": {},
   "outputs": [],
   "source": []
  },
  {
   "cell_type": "raw",
   "metadata": {},
   "source": [
    "Q-18) write a code to replace the element of Brand, “Camel” with “Camlin” inside the list is:-"
   ]
  },
  {
   "cell_type": "code",
   "execution_count": null,
   "metadata": {},
   "outputs": [],
   "source": []
  },
  {
   "cell_type": "raw",
   "metadata": {},
   "source": [
    "Q-19) The list \"Months\" is defined as:-\n",
    "\n",
    "       Months = ['Jan', 'Mar', 'June', 'Aug', 'June', 'Feb', 'Nov', 'Dec', 'June', 'Apr', 'May',     'June']\n",
    "\n",
    "       Write a code which returns the number of occurrences of ‘June’?"
   ]
  },
  {
   "cell_type": "code",
   "execution_count": null,
   "metadata": {},
   "outputs": [],
   "source": []
  },
  {
   "cell_type": "raw",
   "metadata": {},
   "source": [
    "Q-20) Given the variables:**\n",
    "\n",
    "planet = \"Earth\"\n",
    "diameter = 12742\n",
    "** Use .format() to print the following string: **\n",
    "\n",
    "The diameter of Earth is 12742 kilometers."
   ]
  },
  {
   "cell_type": "code",
   "execution_count": null,
   "metadata": {},
   "outputs": [],
   "source": []
  },
  {
   "cell_type": "raw",
   "metadata": {},
   "source": [
    "Q-21)Given this nested list, use indexing to grab the word \"hello\"\n",
    "lst = [1,2,[3,4],[5,[100,200,['hello',1000]],23,11],1,7]\n"
   ]
  },
  {
   "cell_type": "code",
   "execution_count": null,
   "metadata": {},
   "outputs": [],
   "source": []
  },
  {
   "cell_type": "raw",
   "metadata": {},
   "source": [
    "Q-22) Given this nested dictionary grab the word \"hello\".\n",
    "d = {'k1':[1,2,3,{'tricky':['oh','man','inception',{'target':[1,2,3,'hello']}]}]}"
   ]
  },
  {
   "cell_type": "code",
   "execution_count": null,
   "metadata": {},
   "outputs": [],
   "source": []
  },
  {
   "cell_type": "raw",
   "metadata": {},
   "source": [
    "Q-23) convert this string into a list but output of list should be in words not in alphabets.\n",
    "s = \"Hi there Sam!\""
   ]
  },
  {
   "cell_type": "code",
   "execution_count": null,
   "metadata": {},
   "outputs": [],
   "source": []
  },
  {
   "cell_type": "raw",
   "metadata": {},
   "source": [
    "Q-24) Write a code to extract the number at the end of the line below and also Convert the extracted value to a floating point number.\n",
    "\n",
    "text = \"X-DSPAM-Confidence:    0.8475\";\n"
   ]
  },
  {
   "cell_type": "code",
   "execution_count": null,
   "metadata": {},
   "outputs": [],
   "source": []
  },
  {
   "cell_type": "raw",
   "metadata": {},
   "source": [
    "Q-25) a=(1,5,6,7,8,\"datascience\")\n",
    "\n",
    "replace \"datascience\" to \"deeplearning\""
   ]
  },
  {
   "cell_type": "code",
   "execution_count": null,
   "metadata": {},
   "outputs": [],
   "source": []
  }
 ],
 "metadata": {
  "kernelspec": {
   "display_name": "Python 3",
   "language": "python",
   "name": "python3"
  },
  "language_info": {
   "codemirror_mode": {
    "name": "ipython",
    "version": 3
   },
   "file_extension": ".py",
   "mimetype": "text/x-python",
   "name": "python",
   "nbconvert_exporter": "python",
   "pygments_lexer": "ipython3",
   "version": "3.7.6"
  }
 },
 "nbformat": 4,
 "nbformat_minor": 4
}
